{
 "cells": [
  {
   "cell_type": "code",
   "execution_count": 1,
   "id": "a6102d66-566c-4eda-bd7b-11e97132b72e",
   "metadata": {},
   "outputs": [
    {
     "name": "stderr",
     "output_type": "stream",
     "text": [
      "C:\\Users\\Sean\\AppData\\Local\\Temp/ipykernel_5156/4143967996.py:4: UserWarning: \n",
      "The dash_html_components package is deprecated. Please replace\n",
      "`import dash_html_components as html` with `from dash import html`\n",
      "  import dash_html_components as html\n",
      "C:\\Users\\Sean\\AppData\\Local\\Temp/ipykernel_5156/4143967996.py:5: UserWarning: \n",
      "The dash_core_components package is deprecated. Please replace\n",
      "`import dash_core_components as dcc` with `from dash import dcc`\n",
      "  import dash_core_components as dcc\n"
     ]
    }
   ],
   "source": [
    "# Import required libraries\n",
    "import pandas as pd\n",
    "import dash\n",
    "import dash_html_components as html\n",
    "import dash_core_components as dcc\n",
    "from dash.dependencies import Input, Output\n",
    "import plotly.express as px\n"
   ]
  },
  {
   "cell_type": "code",
   "execution_count": 2,
   "id": "536d04d1-de8a-4c13-bf62-d6bc4da55fe4",
   "metadata": {},
   "outputs": [],
   "source": [
    "# Read the airline data into pandas dataframe\n",
    "spacex_df = pd.read_csv(\"spacex_launch_dash.csv\")\n",
    "max_payload = spacex_df['Payload Mass (kg)'].max()\n",
    "min_payload = spacex_df['Payload Mass (kg)'].min()\n"
   ]
  },
  {
   "cell_type": "code",
   "execution_count": 3,
   "id": "8c83206b-2278-4af8-9d3a-ad8809b3a9cf",
   "metadata": {},
   "outputs": [],
   "source": [
    "# Create a dash application\n",
    "app = dash.Dash(__name__)\n"
   ]
  },
  {
   "cell_type": "code",
   "execution_count": 4,
   "id": "6adcf715-091e-4f53-9695-48b43fbf79bc",
   "metadata": {},
   "outputs": [],
   "source": [
    "# Create an app layout\n",
    "app.layout = html.Div(children=[html.H1('SpaceX Launch Records Dashboard',\n",
    "                                        style={'textAlign': 'center', 'color': '#503D36',\n",
    "                                               'font-size': 40}),\n",
    "                                \n",
    "                                # TASK 1: Add a dropdown list to enable Launch Site selection\n",
    "                                # The default select value is for ALL sites\n",
    "\n",
    "                                dcc.Dropdown(id='site-dropdown',\n",
    "                                            options=[\n",
    "                                                {'label': 'All Sites', 'value': 'ALL'},\n",
    "                                                {'label': 'CCAFS LC-40', 'value': 'CCAFS LC-40'}, \n",
    "                                                {'label': 'VAFB SLC-4E', 'value': 'VAFB SLC-4E'},\n",
    "                                                {'label': 'KSC LC-39A', 'value': 'KSC LC-39A'},\n",
    "                                                {'label': 'CCAFS SLC-40', 'value': 'CCAFS SLC-40'},\n",
    "                                            ],\n",
    "                                            value='ALL',\n",
    "                                            placeholder=\"Select a Launch Site here\",\n",
    "                                            searchable=True\n",
    "                                            ),\n",
    "                                html.Br(),\n",
    "                                # TASK 2: Add a pie chart to show the total successful launches count for all sites\n",
    "                                # If a specific launch site was selected, show the Success vs. Failed counts for the site\n",
    "                                html.Div(dcc.Graph(id='success-pie-chart')),\n",
    "                                html.Br(),\n",
    "\n",
    "                                html.P(\"Payload range (Kg):\"),\n",
    "                                # TASK 3: Add a slider to select payload range\n",
    "                                dcc.RangeSlider(id='payload-slider',\n",
    "                                                min=0, max=10000, step=1000,\n",
    "                                                marks={0: '0',\n",
    "                                                      2500: '2500',\n",
    "                                                      5000: '5000',\n",
    "                                                      7500: '7500',\n",
    "                                                      10000: '10000'},\n",
    "                                                value=[min_payload, max_payload]),\n",
    "                                \n",
    "                                # TASK 4: Add a scatter chart to show the correlation between payload and launch success\n",
    "                                html.Div(dcc.Graph(id='success-payload-scatter-chart')),\n",
    "                                ])\n",
    "\n",
    "# TASK 2:\n",
    "# Add a callback function for `site-dropdown` as input, `success-pie-chart` as output\n",
    "@app.callback(Output(component_id='success-pie-chart', component_property='figure'),\n",
    "              Input(component_id='site-dropdown', component_property='value'))\n",
    "def get_pie_chart(entered_site):\n",
    "    filtered_df = spacex_df[spacex_df['Launch Site'] == str(entered_site)]\n",
    "    df_counts = filtered_df['class'].value_counts().reset_index()\n",
    "    if entered_site == 'ALL':\n",
    "        fig = px.pie(spacex_df, \n",
    "                     values='class', \n",
    "                     names='Launch Site', \n",
    "                     title='Total Success Launches By Site')\n",
    "        return fig\n",
    "    else:\n",
    "        fig = px.pie(df_counts, \n",
    "                     values=\"class\", \n",
    "                     names=\"index\", \n",
    "                     title=f\"Total Success Launches for {entered_site}\")\n",
    "        return fig\n",
    "        # return the outcomes piechart for a selected site\n",
    "\n",
    "\n",
    "# TASK 4:\n",
    "# Add a callback function for `site-dropdown` and `payload-slider` as inputs, `success-payload-scatter-chart` as output\n",
    "@app.callback(Output(component_id='success-payload-scatter-chart', component_property='figure'),\n",
    "              Input(component_id='site-dropdown', component_property='value'), Input(component_id=\"payload-slider\", component_property=\"value\"))\n",
    "def get_scatter_plot(entered_site, slider_value):\n",
    "    spacex_df_range = spacex_df[spacex_df['Payload Mass (kg)'].between(slider_value[0], slider_value[1], inclusive=True)]\n",
    "    filtered_df = spacex_df_range[spacex_df_range[\"Launch Site\"] == str(entered_site)]\n",
    "    if entered_site == 'ALL':\n",
    "        fig = px.scatter(spacex_df_range, \n",
    "                         x=\"Payload Mass (kg)\", \n",
    "                         y=\"class\", \n",
    "                         color=\"Booster Version Category\",\n",
    "                         title='Total Success Launches By Site')\n",
    "        return fig\n",
    "    else:\n",
    "        fig = px.scatter(filtered_df,\n",
    "                         x=\"Payload Mass (kg)\",\n",
    "                         y=\"class\", \n",
    "                         color=\"Booster Version Category\",\n",
    "                         title=f'Total Success Launches for {entered_site}')\n",
    "        return fig\n"
   ]
  },
  {
   "cell_type": "code",
   "execution_count": null,
   "id": "f9acf093-5d72-4002-9f70-3f7423cdf097",
   "metadata": {},
   "outputs": [
    {
     "name": "stdout",
     "output_type": "stream",
     "text": [
      "Dash is running on http://127.0.0.1:8050/\n",
      "\n",
      " * Serving Flask app \"__main__\" (lazy loading)\n",
      " * Environment: production\n",
      "\u001b[31m   WARNING: This is a development server. Do not use it in a production deployment.\u001b[0m\n",
      "\u001b[2m   Use a production WSGI server instead.\u001b[0m\n",
      " * Debug mode: off\n"
     ]
    },
    {
     "name": "stderr",
     "output_type": "stream",
     "text": [
      " * Running on http://127.0.0.1:8050/ (Press CTRL+C to quit)\n"
     ]
    }
   ],
   "source": [
    "# Run the app\n",
    "if __name__ == '__main__':\n",
    "    app.run_server()"
   ]
  },
  {
   "cell_type": "code",
   "execution_count": null,
   "id": "2bda7e94-9800-411b-ac0f-da5a7612d8c4",
   "metadata": {},
   "outputs": [],
   "source": []
  }
 ],
 "metadata": {
  "kernelspec": {
   "display_name": "Python 3 (ipykernel)",
   "language": "python",
   "name": "python3"
  },
  "language_info": {
   "codemirror_mode": {
    "name": "ipython",
    "version": 3
   },
   "file_extension": ".py",
   "mimetype": "text/x-python",
   "name": "python",
   "nbconvert_exporter": "python",
   "pygments_lexer": "ipython3",
   "version": "3.8.11"
  }
 },
 "nbformat": 4,
 "nbformat_minor": 5
}
